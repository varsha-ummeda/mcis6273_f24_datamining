{
 "cells": [
  {
   "cell_type": "code",
   "execution_count": 5,
   "id": "2925621d-d8e4-4e96-8c37-675089b48a2a",
   "metadata": {},
   "outputs": [
    {
     "name": "stderr",
     "output_type": "stream",
     "text": [
      "Cloning into 'mcis6273_f24_datamining'...\n"
     ]
    }
   ],
   "source": [
    "!git clone git@github.com:varsha-ummeda/mcis6273_f24_datamining.git"
   ]
  },
  {
   "cell_type": "code",
   "execution_count": 11,
   "id": "e170a303-637f-4f17-9307-8dc5b9e3bdd2",
   "metadata": {},
   "outputs": [
    {
     "name": "stdout",
     "output_type": "stream",
     "text": [
      "C:\\Users\\yamin\\Downloads\\Varsha\\mcis6273_f24_datamining\n"
     ]
    }
   ],
   "source": [
    "%cd mcis6273_f24_datamining"
   ]
  },
  {
   "cell_type": "code",
   "execution_count": 13,
   "id": "68cfe97a-e209-4814-8796-c028b3250aa1",
   "metadata": {},
   "outputs": [
    {
     "name": "stderr",
     "output_type": "stream",
     "text": [
      "warning: in the working copy of 'hw0/Tasks.ipynb', LF will be replaced by CRLF the next time Git touches it\n",
      "warning: in the working copy of 'hw0/data/cleaned_data.csv', LF will be replaced by CRLF the next time Git touches it\n",
      "warning: in the working copy of 'hw0/data/data_cleaned_normalized.csv', LF will be replaced by CRLF the next time Git touches it\n",
      "warning: in the working copy of 'hw0/data/data_cleaned_normalized.json', LF will be replaced by CRLF the next time Git touches it\n",
      "warning: in the working copy of 'hw0/data/data_filtered.csv', LF will be replaced by CRLF the next time Git touches it\n",
      "warning: in the working copy of 'hw0/data/data_filtered.json', LF will be replaced by CRLF the next time Git touches it\n",
      "warning: in the working copy of 'hw0/data/hw0_dataset_1M.csv', LF will be replaced by CRLF the next time Git touches it\n"
     ]
    }
   ],
   "source": [
    "!git add ."
   ]
  },
  {
   "cell_type": "code",
   "execution_count": 15,
   "id": "727e74d6-7d3b-473a-aa14-563d1c68f003",
   "metadata": {},
   "outputs": [
    {
     "name": "stdout",
     "output_type": "stream",
     "text": [
      "[main 4561856] uploading files\n",
      " 12 files changed, 4495879 insertions(+), 540 deletions(-)\n",
      " create mode 100644 hw0/Tasks.ipynb\n",
      " create mode 100644 hw0/data/cleaned_data.csv\n",
      " create mode 100644 hw0/data/data_cleaned_normalized.csv\n",
      " create mode 100644 hw0/data/data_cleaned_normalized.json\n",
      " create mode 100644 hw0/data/data_filtered.csv\n",
      " create mode 100644 hw0/data/data_filtered.json\n",
      " create mode 100644 hw0/data/hw0_dataset_1M.csv\n",
      " delete mode 100644 hw0/hw0.ipynb\n",
      " delete mode 100644 hw0/hw0.md\n",
      " delete mode 100644 hw0/hw0.pdf\n",
      " rename hw0/{hw_data => }/hw0_dataset_1M.csv.zip (100%)\n",
      " delete mode 100644 hw0/hw0_starter_nb.ipynb\n"
     ]
    }
   ],
   "source": [
    "!git commit -m\"uploading files\""
   ]
  },
  {
   "cell_type": "code",
   "execution_count": 18,
   "id": "5abe620e-0cbd-44fa-923d-d9d8fe70e383",
   "metadata": {},
   "outputs": [
    {
     "name": "stderr",
     "output_type": "stream",
     "text": [
      "error: RPC failed; HTTP 400 curl 92 HTTP/2 stream 3 was not closed cleanly: CANCEL (err 8)\n",
      "send-pack: unexpected disconnect while reading sideband packet\n",
      "fatal: the remote end hung up unexpectedly\n",
      "Everything up-to-date\n"
     ]
    }
   ],
   "source": [
    "!git push"
   ]
  },
  {
   "cell_type": "code",
   "execution_count": null,
   "id": "a3d6803f-a998-4ea7-b8a9-acf802d16ec9",
   "metadata": {},
   "outputs": [],
   "source": []
  }
 ],
 "metadata": {
  "kernelspec": {
   "display_name": "Python 3 (ipykernel)",
   "language": "python",
   "name": "python3"
  },
  "language_info": {
   "codemirror_mode": {
    "name": "ipython",
    "version": 3
   },
   "file_extension": ".py",
   "mimetype": "text/x-python",
   "name": "python",
   "nbconvert_exporter": "python",
   "pygments_lexer": "ipython3",
   "version": "3.12.4"
  }
 },
 "nbformat": 4,
 "nbformat_minor": 5
}
